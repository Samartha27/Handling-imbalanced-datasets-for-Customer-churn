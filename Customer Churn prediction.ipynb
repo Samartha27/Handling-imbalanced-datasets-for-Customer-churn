{
 "cells": [
  {
   "cell_type": "code",
   "execution_count": 118,
   "metadata": {},
   "outputs": [
    {
     "ename": "ModuleNotFoundError",
     "evalue": "No module named 'tensorflow_addons'",
     "output_type": "error",
     "traceback": [
      "\u001b[1;31m---------------------------------------------------------------------------\u001b[0m",
      "\u001b[1;31mModuleNotFoundError\u001b[0m                       Traceback (most recent call last)",
      "\u001b[1;32m<ipython-input-118-efa31d7e4329>\u001b[0m in \u001b[0;36m<module>\u001b[1;34m\u001b[0m\n\u001b[0;32m      5\u001b[0m \u001b[1;32mimport\u001b[0m \u001b[0mtensorflow\u001b[0m \u001b[1;32mas\u001b[0m \u001b[0mtf\u001b[0m\u001b[1;33m\u001b[0m\u001b[1;33m\u001b[0m\u001b[0m\n\u001b[0;32m      6\u001b[0m \u001b[1;32mfrom\u001b[0m \u001b[0mtensorflow\u001b[0m \u001b[1;32mimport\u001b[0m \u001b[0mkeras\u001b[0m\u001b[1;33m\u001b[0m\u001b[1;33m\u001b[0m\u001b[0m\n\u001b[1;32m----> 7\u001b[1;33m \u001b[1;32mfrom\u001b[0m \u001b[0mtensorflow_addons\u001b[0m \u001b[1;32mimport\u001b[0m \u001b[0mlosses\u001b[0m\u001b[1;33m\u001b[0m\u001b[1;33m\u001b[0m\u001b[0m\n\u001b[0m\u001b[0;32m      8\u001b[0m \u001b[1;32mfrom\u001b[0m \u001b[0msklearn\u001b[0m\u001b[1;33m.\u001b[0m\u001b[0mpreprocessing\u001b[0m \u001b[1;32mimport\u001b[0m \u001b[0mMinMaxScaler\u001b[0m\u001b[1;33m\u001b[0m\u001b[1;33m\u001b[0m\u001b[0m\n\u001b[0;32m      9\u001b[0m \u001b[1;32mfrom\u001b[0m \u001b[0msklearn\u001b[0m\u001b[1;33m.\u001b[0m\u001b[0mmetrics\u001b[0m \u001b[1;32mimport\u001b[0m \u001b[0mconfusion_matrix\u001b[0m \u001b[1;33m,\u001b[0m \u001b[0mclassification_report\u001b[0m\u001b[1;33m\u001b[0m\u001b[1;33m\u001b[0m\u001b[0m\n",
      "\u001b[1;31mModuleNotFoundError\u001b[0m: No module named 'tensorflow_addons'"
     ]
    }
   ],
   "source": [
    "import pandas as pd\n",
    "from matplotlib import pyplot as plt\n",
    "import numpy as np\n",
    "%matplotlib inline\n",
    "import tensorflow as tf\n",
    "from tensorflow import keras\n",
    "from tensorflow_addons import losses\n",
    "from sklearn.preprocessing import MinMaxScaler\n",
    "from sklearn.metrics import confusion_matrix , classification_report\n"
   ]
  },
  {
   "cell_type": "code",
   "execution_count": null,
   "metadata": {},
   "outputs": [],
   "source": [
    "Cust_data = pd.read_csv(\"customer_churn.csv\")\n",
    "Cust_data.head()"
   ]
  },
  {
   "cell_type": "code",
   "execution_count": null,
   "metadata": {},
   "outputs": [],
   "source": [
    "Cust_data.drop('customerID',axis ='columns',inplace = True)\n",
    "Cust_data.dtypes"
   ]
  },
  {
   "cell_type": "code",
   "execution_count": null,
   "metadata": {},
   "outputs": [],
   "source": [
    "Cust_data.TotalCharges.values"
   ]
  },
  {
   "cell_type": "code",
   "execution_count": null,
   "metadata": {},
   "outputs": [],
   "source": [
    "Cust_data[pd.to_numeric(Cust_data.TotalCharges,errors='coerce').isnull()]"
   ]
  },
  {
   "cell_type": "code",
   "execution_count": null,
   "metadata": {},
   "outputs": [],
   "source": [
    "Cust_data.iloc[488].TotalCharges"
   ]
  },
  {
   "cell_type": "code",
   "execution_count": null,
   "metadata": {},
   "outputs": [],
   "source": [
    "print(Cust_data[Cust_data.TotalCharges != ' '].shape)\n",
    "Cust_revised = Cust_data[Cust_data.TotalCharges != ' ']\n",
    "print(Cust_revised.shape)"
   ]
  },
  {
   "cell_type": "code",
   "execution_count": null,
   "metadata": {},
   "outputs": [],
   "source": [
    "Cust_revised['TotalCharges'] = pd.to_numeric(Cust_revised.TotalCharges)"
   ]
  },
  {
   "cell_type": "code",
   "execution_count": null,
   "metadata": {},
   "outputs": [],
   "source": [
    "Cust_revised['TotalCharges']"
   ]
  },
  {
   "cell_type": "code",
   "execution_count": null,
   "metadata": {},
   "outputs": [],
   "source": [
    "Cust_wtenure_stay = Cust_revised[Cust_revised['Churn']=='No'].tenure\n",
    "Cust_wtenure_left = Cust_revised[Cust_revised['Churn']=='Yes'].tenure\n",
    "plt.hist([Cust_wtenure_left,Cust_wtenure_stay],label = ['Leaving_Customers','Staying_Customers'])\n",
    "plt.legend()\n",
    "plt.xlabel(\"No of years in tenure\")\n",
    "plt.ylabel(\"Number of customers\")\n",
    "plt.title(\"Churn status of customers and tenure status\")"
   ]
  },
  {
   "cell_type": "code",
   "execution_count": null,
   "metadata": {},
   "outputs": [],
   "source": [
    "def unique_value_categorical_columns(Cust_revised):    \n",
    "    for column in Cust_revised:\n",
    "        if Cust_revised[column].dtypes == 'object':\n",
    "            print (f'{column} : {Cust_revised[column].unique()}')\n",
    "unique_value_categorical_columns(Cust_revised)\n"
   ]
  },
  {
   "cell_type": "code",
   "execution_count": null,
   "metadata": {},
   "outputs": [],
   "source": [
    "Cust_revised.replace('No phone service','No',inplace = True)\n",
    "Cust_revised.replace('No internet service','No',inplace = True)\n"
   ]
  },
  {
   "cell_type": "code",
   "execution_count": null,
   "metadata": {},
   "outputs": [],
   "source": [
    "unique_value_categorical_columns(Cust_revised)"
   ]
  },
  {
   "cell_type": "code",
   "execution_count": null,
   "metadata": {},
   "outputs": [],
   "source": [
    "change_columns = ['DeviceProtection','Partner','Dependents','StreamingMovies','PhoneService','MultipleLines','OnlineSecurity','OnlineBackup',\n",
    "                  'TechSupport','StreamingTV','PaperlessBilling','Churn']\n",
    "for column in change_columns:\n",
    "    Cust_revised[column].replace({'Yes':1,'No':0},inplace = True)"
   ]
  },
  {
   "cell_type": "code",
   "execution_count": null,
   "metadata": {},
   "outputs": [],
   "source": [
    "for column in Cust_revised:\n",
    "    print (f'{column} : {Cust_revised[column].unique()}')"
   ]
  },
  {
   "cell_type": "code",
   "execution_count": null,
   "metadata": {},
   "outputs": [],
   "source": [
    "Cust_revised['gender'].replace({'Female':1,'Male':0},inplace=True)"
   ]
  },
  {
   "cell_type": "code",
   "execution_count": null,
   "metadata": {},
   "outputs": [],
   "source": [
    "Cust_revised = pd.get_dummies(Cust_revised, columns = ['PaymentMethod','Contract','InternetService'])\n",
    "Cust_revised"
   ]
  },
  {
   "cell_type": "code",
   "execution_count": null,
   "metadata": {},
   "outputs": [],
   "source": [
    "columns_to_scale = ['tenure','MonthlyCharges','TotalCharges']\n",
    "\n",
    "scaler = MinMaxScaler()\n",
    "Cust_revised[columns_to_scale] = scaler.fit_transform(Cust_revised[columns_to_scale])"
   ]
  },
  {
   "cell_type": "code",
   "execution_count": null,
   "metadata": {},
   "outputs": [],
   "source": [
    "Cust_revised.head()"
   ]
  },
  {
   "cell_type": "code",
   "execution_count": null,
   "metadata": {},
   "outputs": [],
   "source": []
  },
  {
   "cell_type": "code",
   "execution_count": null,
   "metadata": {},
   "outputs": [],
   "source": [
    "X = Cust_revised.drop('Churn',axis='columns')\n",
    "y = Cust_revised['Churn']\n",
    "\n",
    "from sklearn.model_selection import train_test_split\n",
    "X_train, X_test, y_train, y_test = train_test_split(X,y,test_size=0.20,random_state=5)\n",
    "print(X_train.shape)\n",
    "print(X_test.shape)\n",
    "X_train[:5]\n",
    "\n"
   ]
  },
  {
   "cell_type": "code",
   "execution_count": 119,
   "metadata": {},
   "outputs": [],
   "source": [
    "def mynn(X_train,y_train,X_test,y_test,loss,weights):\n",
    "\n",
    "    model = keras.Sequential([\n",
    "        keras.layers.Dense(25, input_shape=(26,), activation='relu'),\n",
    "        keras.layers.Dense(25, activation='relu'),\n",
    "        keras.layers.Dense(1, activation='sigmoid')])\n",
    "\n",
    "    model.compile(optimizer='adam',loss=loss,metrics=['accuracy'])\n",
    "    \n",
    "    if weights == -1:\n",
    "        model.fit(X_train, y_train, epochs=20)\n",
    "    else:\n",
    "        model.fit(X_train, y_train, epochs=20,class_weight = weights)\n",
    "    \n",
    "    print(model.evaluate(X_test,y_test))\n",
    "    yp = model.predict(X_test)\n",
    "    yp = np.round(yp)\n",
    "    \n",
    "    print(\"Classificatoin report: \\n\",classification_report(y_test,yp))\n",
    "    \n",
    "    return yp"
   ]
  },
  {
   "cell_type": "code",
   "execution_count": 120,
   "metadata": {},
   "outputs": [
    {
     "name": "stdout",
     "output_type": "stream",
     "text": [
      "Epoch 1/20\n",
      "259/259 [==============================] - 1s 1ms/step - loss: 0.5444 - accuracy: 0.7385\n",
      "Epoch 2/20\n",
      "259/259 [==============================] - 0s 1ms/step - loss: 0.4942 - accuracy: 0.7622\n",
      "Epoch 3/20\n",
      "259/259 [==============================] - 0s 1ms/step - loss: 0.4854 - accuracy: 0.7651\n",
      "Epoch 4/20\n",
      "259/259 [==============================] - 0s 1ms/step - loss: 0.4808 - accuracy: 0.7669\n",
      "Epoch 5/20\n",
      "259/259 [==============================] - 0s 1ms/step - loss: 0.4770 - accuracy: 0.7692\n",
      "Epoch 6/20\n",
      "259/259 [==============================] - 0s 1ms/step - loss: 0.4735 - accuracy: 0.7701\n",
      "Epoch 7/20\n",
      "259/259 [==============================] - 0s 1ms/step - loss: 0.4692 - accuracy: 0.7754\n",
      "Epoch 8/20\n",
      "259/259 [==============================] - 0s 1ms/step - loss: 0.4665 - accuracy: 0.7797\n",
      "Epoch 9/20\n",
      "259/259 [==============================] - 0s 1ms/step - loss: 0.4626 - accuracy: 0.7824\n",
      "Epoch 10/20\n",
      "259/259 [==============================] - 0s 1ms/step - loss: 0.4606 - accuracy: 0.7788\n",
      "Epoch 11/20\n",
      "259/259 [==============================] - 0s 1ms/step - loss: 0.4570 - accuracy: 0.7841\n",
      "Epoch 12/20\n",
      "259/259 [==============================] - 0s 1ms/step - loss: 0.4537 - accuracy: 0.7866\n",
      "Epoch 13/20\n",
      "259/259 [==============================] - 0s 1ms/step - loss: 0.4521 - accuracy: 0.7856\n",
      "Epoch 14/20\n",
      "259/259 [==============================] - 0s 1ms/step - loss: 0.4505 - accuracy: 0.7880\n",
      "Epoch 15/20\n",
      "259/259 [==============================] - 0s 1ms/step - loss: 0.4474 - accuracy: 0.7881\n",
      "Epoch 16/20\n",
      "259/259 [==============================] - 0s 2ms/step - loss: 0.4459 - accuracy: 0.7913\n",
      "Epoch 17/20\n",
      "259/259 [==============================] - 0s 2ms/step - loss: 0.4437 - accuracy: 0.7878\n",
      "Epoch 18/20\n",
      "259/259 [==============================] - 1s 3ms/step - loss: 0.4407 - accuracy: 0.7949\n",
      "Epoch 19/20\n",
      "259/259 [==============================] - 1s 4ms/step - loss: 0.4402 - accuracy: 0.7965\n",
      "Epoch 20/20\n",
      "259/259 [==============================] - 1s 2ms/step - loss: 0.4362 - accuracy: 0.7962\n",
      "65/65 [==============================] - 0s 2ms/step - loss: 0.4732 - accuracy: 0.7652\n",
      "[0.473215788602829, 0.7652468681335449]\n",
      "Classificatoin report: \n",
      "               precision    recall  f1-score   support\n",
      "\n",
      "           0       0.80      0.71      0.75      1033\n",
      "           1       0.74      0.82      0.78      1033\n",
      "\n",
      "    accuracy                           0.77      2066\n",
      "   macro avg       0.77      0.77      0.76      2066\n",
      "weighted avg       0.77      0.77      0.76      2066\n",
      "\n"
     ]
    }
   ],
   "source": [
    "y_preds = mynn(X_train,y_train,X_test,y_test,'binary_crossentropy',-1)"
   ]
  },
  {
   "cell_type": "code",
   "execution_count": 121,
   "metadata": {},
   "outputs": [
    {
     "data": {
      "text/plain": [
       "1    1033\n",
       "0    1033\n",
       "Name: Churn, dtype: int64"
      ]
     },
     "execution_count": 121,
     "metadata": {},
     "output_type": "execute_result"
    }
   ],
   "source": [
    "y_test.value_counts()"
   ]
  },
  {
   "cell_type": "code",
   "execution_count": null,
   "metadata": {},
   "outputs": [],
   "source": []
  },
  {
   "cell_type": "code",
   "execution_count": 122,
   "metadata": {},
   "outputs": [
    {
     "data": {
      "text/plain": [
       "((5163, 27), (1869, 27))"
      ]
     },
     "execution_count": 122,
     "metadata": {},
     "output_type": "execute_result"
    }
   ],
   "source": [
    "count_class_0,count_class_1 = Cust_revised.Churn.value_counts()\n",
    "count_class_0,count_class_1\n",
    "df_class_0 = Cust_revised[Cust_revised['Churn'] == 0]\n",
    "df_class_1 = Cust_revised[Cust_revised['Churn'] == 1]\n",
    "\n",
    "df_class_0.shape,df_class_1.shape"
   ]
  },
  {
   "cell_type": "code",
   "execution_count": 123,
   "metadata": {},
   "outputs": [
    {
     "data": {
      "text/plain": [
       "'y_pred = []\\nfor value in yp:\\n    if value > 0.5:\\n        y_pred.append(1)\\n    else:\\n        y_pred.append(0)'"
      ]
     },
     "execution_count": 123,
     "metadata": {},
     "output_type": "execute_result"
    }
   ],
   "source": [
    "'''y_pred = []\n",
    "for value in yp:\n",
    "    if value > 0.5:\n",
    "        y_pred.append(1)\n",
    "    else:\n",
    "        y_pred.append(0)'''"
   ]
  },
  {
   "cell_type": "code",
   "execution_count": 124,
   "metadata": {},
   "outputs": [
    {
     "name": "stdout",
     "output_type": "stream",
     "text": [
      "Random under-sampling\n",
      "1    1869\n",
      "0    1869\n",
      "Name: Churn, dtype: int64\n"
     ]
    }
   ],
   "source": [
    "df_class_0_under_sample = df_class_0.sample(count_class_1)\n",
    "df_test_under = pd.concat([df_class_0_under_sample,df_class_1],axis =0)\n",
    "df_test_under.shape\n",
    "print('Random under-sampling')\n",
    "print(df_test_under.Churn.value_counts())"
   ]
  },
  {
   "cell_type": "code",
   "execution_count": 125,
   "metadata": {},
   "outputs": [
    {
     "data": {
      "text/plain": [
       "1    1495\n",
       "0    1495\n",
       "Name: Churn, dtype: int64"
      ]
     },
     "execution_count": 125,
     "metadata": {},
     "output_type": "execute_result"
    }
   ],
   "source": [
    "X = df_test_under.drop('Churn',axis='columns')\n",
    "y = df_test_under['Churn']\n",
    "\n",
    "from sklearn.model_selection import train_test_split\n",
    "X_train, X_test, y_train, y_test = train_test_split(X, y, test_size=0.2, random_state=15, stratify=y)\n",
    "y_train.value_counts()"
   ]
  },
  {
   "cell_type": "code",
   "execution_count": 126,
   "metadata": {},
   "outputs": [
    {
     "name": "stdout",
     "output_type": "stream",
     "text": [
      "Epoch 1/20\n",
      "94/94 [==============================] - 0s 1ms/step - loss: 0.5898 - accuracy: 0.7194\n",
      "Epoch 2/20\n",
      "94/94 [==============================] - 0s 2ms/step - loss: 0.4989 - accuracy: 0.7609\n",
      "Epoch 3/20\n",
      "94/94 [==============================] - 0s 3ms/step - loss: 0.4898 - accuracy: 0.7656\n",
      "Epoch 4/20\n",
      "94/94 [==============================] - 0s 2ms/step - loss: 0.4810 - accuracy: 0.7709\n",
      "Epoch 5/20\n",
      "94/94 [==============================] - 0s 2ms/step - loss: 0.4766 - accuracy: 0.7702\n",
      "Epoch 6/20\n",
      "94/94 [==============================] - 0s 3ms/step - loss: 0.4751 - accuracy: 0.7709\n",
      "Epoch 7/20\n",
      "94/94 [==============================] - 0s 2ms/step - loss: 0.4706 - accuracy: 0.7756\n",
      "Epoch 8/20\n",
      "94/94 [==============================] - 0s 5ms/step - loss: 0.4683 - accuracy: 0.7729\n",
      "Epoch 9/20\n",
      "94/94 [==============================] - 0s 2ms/step - loss: 0.4650 - accuracy: 0.7776\n",
      "Epoch 10/20\n",
      "94/94 [==============================] - 0s 2ms/step - loss: 0.4633 - accuracy: 0.7819\n",
      "Epoch 11/20\n",
      "94/94 [==============================] - 1s 5ms/step - loss: 0.4607 - accuracy: 0.7806\n",
      "Epoch 12/20\n",
      "94/94 [==============================] - 0s 5ms/step - loss: 0.4577 - accuracy: 0.7853\n",
      "Epoch 13/20\n",
      "94/94 [==============================] - 0s 5ms/step - loss: 0.4566 - accuracy: 0.7839: 0s - loss: 0.4287 - ac\n",
      "Epoch 14/20\n",
      "94/94 [==============================] - 0s 4ms/step - loss: 0.4557 - accuracy: 0.7813\n",
      "Epoch 15/20\n",
      "94/94 [==============================] - 0s 4ms/step - loss: 0.4527 - accuracy: 0.7860\n",
      "Epoch 16/20\n",
      "94/94 [==============================] - 0s 4ms/step - loss: 0.4506 - accuracy: 0.7829\n",
      "Epoch 17/20\n",
      "94/94 [==============================] - 0s 4ms/step - loss: 0.4493 - accuracy: 0.7806\n",
      "Epoch 18/20\n",
      "94/94 [==============================] - 0s 4ms/step - loss: 0.4484 - accuracy: 0.7860\n",
      "Epoch 19/20\n",
      "94/94 [==============================] - 0s 4ms/step - loss: 0.4467 - accuracy: 0.7860\n",
      "Epoch 20/20\n",
      "94/94 [==============================] - 0s 4ms/step - loss: 0.4461 - accuracy: 0.7839\n",
      "24/24 [==============================] - 0s 911us/step - loss: 0.5057 - accuracy: 0.7460\n",
      "[0.5057135820388794, 0.7459893226623535]\n",
      "Classificatoin report: \n",
      "               precision    recall  f1-score   support\n",
      "\n",
      "           0       0.80      0.66      0.72       374\n",
      "           1       0.71      0.83      0.77       374\n",
      "\n",
      "    accuracy                           0.75       748\n",
      "   macro avg       0.75      0.75      0.74       748\n",
      "weighted avg       0.75      0.75      0.74       748\n",
      "\n"
     ]
    }
   ],
   "source": [
    "y_preds = mynn(X_train,y_train,X_test,y_test,'binary_crossentropy',-1)"
   ]
  },
  {
   "cell_type": "markdown",
   "metadata": {},
   "source": []
  },
  {
   "cell_type": "markdown",
   "metadata": {},
   "source": [
    "Oversampling"
   ]
  },
  {
   "cell_type": "code",
   "execution_count": 127,
   "metadata": {},
   "outputs": [
    {
     "data": {
      "text/plain": [
       "(5163, 1869)"
      ]
     },
     "execution_count": 127,
     "metadata": {},
     "output_type": "execute_result"
    }
   ],
   "source": [
    "count_class_0,count_class_1"
   ]
  },
  {
   "cell_type": "code",
   "execution_count": 128,
   "metadata": {},
   "outputs": [
    {
     "name": "stdout",
     "output_type": "stream",
     "text": [
      "Random over-sampling \n",
      " 1    5163\n",
      "0    5163\n",
      "Name: Churn, dtype: int64\n"
     ]
    }
   ],
   "source": [
    "df_class_1_over = df_class_1.sample(count_class_0,replace = True)\n",
    "df_test_over = pd.concat([df_class_0,df_class_1_over],axis = 0)\n",
    "print(\"Random over-sampling \\n\",df_test_over.Churn.value_counts())"
   ]
  },
  {
   "cell_type": "code",
   "execution_count": 129,
   "metadata": {},
   "outputs": [
    {
     "data": {
      "text/plain": [
       "1    4130\n",
       "0    4130\n",
       "Name: Churn, dtype: int64"
      ]
     },
     "execution_count": 129,
     "metadata": {},
     "output_type": "execute_result"
    }
   ],
   "source": [
    "X = df_test_over.drop('Churn',axis='columns')\n",
    "y = df_test_over['Churn']\n",
    "\n",
    "X_train,X_test,y_train,y_test = train_test_split(X,y,test_size = 0.2,stratify = y)\n",
    "y_train.value_counts()"
   ]
  },
  {
   "cell_type": "code",
   "execution_count": 130,
   "metadata": {},
   "outputs": [
    {
     "name": "stdout",
     "output_type": "stream",
     "text": [
      "Epoch 1/20\n",
      "259/259 [==============================] - 1s 1ms/step - loss: 0.5447 - accuracy: 0.7308\n",
      "Epoch 2/20\n",
      "259/259 [==============================] - 0s 1ms/step - loss: 0.5027 - accuracy: 0.7599\n",
      "Epoch 3/20\n",
      "259/259 [==============================] - 0s 1ms/step - loss: 0.4954 - accuracy: 0.7609\n",
      "Epoch 4/20\n",
      "259/259 [==============================] - 0s 1ms/step - loss: 0.4909 - accuracy: 0.7643\n",
      "Epoch 5/20\n",
      "259/259 [==============================] - 0s 1ms/step - loss: 0.4861 - accuracy: 0.7663\n",
      "Epoch 6/20\n",
      "259/259 [==============================] - 0s 1ms/step - loss: 0.4839 - accuracy: 0.7668\n",
      "Epoch 7/20\n",
      "259/259 [==============================] - 0s 1ms/step - loss: 0.4783 - accuracy: 0.7662\n",
      "Epoch 8/20\n",
      "259/259 [==============================] - 0s 1ms/step - loss: 0.4767 - accuracy: 0.7703\n",
      "Epoch 9/20\n",
      "259/259 [==============================] - 0s 2ms/step - loss: 0.4718 - accuracy: 0.7740\n",
      "Epoch 10/20\n",
      "259/259 [==============================] - ETA: 0s - loss: 0.4676 - accuracy: 0.77 - 0s 2ms/step - loss: 0.4702 - accuracy: 0.7753\n",
      "Epoch 11/20\n",
      "259/259 [==============================] - 0s 2ms/step - loss: 0.4689 - accuracy: 0.7785\n",
      "Epoch 12/20\n",
      "259/259 [==============================] - 0s 2ms/step - loss: 0.4653 - accuracy: 0.7776\n",
      "Epoch 13/20\n",
      "259/259 [==============================] - 0s 2ms/step - loss: 0.4618 - accuracy: 0.7760\n",
      "Epoch 14/20\n",
      "259/259 [==============================] - 0s 2ms/step - loss: 0.4598 - accuracy: 0.7801\n",
      "Epoch 15/20\n",
      "259/259 [==============================] - 0s 2ms/step - loss: 0.4582 - accuracy: 0.7804\n",
      "Epoch 16/20\n",
      "259/259 [==============================] - 0s 2ms/step - loss: 0.4566 - accuracy: 0.7808\n",
      "Epoch 17/20\n",
      "259/259 [==============================] - 0s 2ms/step - loss: 0.4539 - accuracy: 0.7822\n",
      "Epoch 18/20\n",
      "259/259 [==============================] - 0s 2ms/step - loss: 0.4511 - accuracy: 0.7833\n",
      "Epoch 19/20\n",
      "259/259 [==============================] - 0s 2ms/step - loss: 0.4498 - accuracy: 0.7840\n",
      "Epoch 20/20\n",
      "259/259 [==============================] - 0s 2ms/step - loss: 0.4469 - accuracy: 0.7868\n",
      "65/65 [==============================] - 0s 989us/step - loss: 0.4610 - accuracy: 0.7764\n",
      "[0.4609793424606323, 0.7763794660568237]\n",
      "Classificatoin report: \n",
      "               precision    recall  f1-score   support\n",
      "\n",
      "           0       0.82      0.71      0.76      1033\n",
      "           1       0.75      0.84      0.79      1033\n",
      "\n",
      "    accuracy                           0.78      2066\n",
      "   macro avg       0.78      0.78      0.78      2066\n",
      "weighted avg       0.78      0.78      0.78      2066\n",
      "\n"
     ]
    }
   ],
   "source": [
    "y_preds = mynn(X_train,y_train,X_test,y_test,'binary_crossentropy',-1)"
   ]
  },
  {
   "cell_type": "markdown",
   "metadata": {},
   "source": [
    "SMOTE "
   ]
  },
  {
   "cell_type": "code",
   "execution_count": null,
   "metadata": {},
   "outputs": [],
   "source": []
  }
 ],
 "metadata": {
  "kernelspec": {
   "display_name": "Python 3",
   "language": "python",
   "name": "python3"
  },
  "language_info": {
   "codemirror_mode": {
    "name": "ipython",
    "version": 3
   },
   "file_extension": ".py",
   "mimetype": "text/x-python",
   "name": "python",
   "nbconvert_exporter": "python",
   "pygments_lexer": "ipython3",
   "version": "3.7.6"
  }
 },
 "nbformat": 4,
 "nbformat_minor": 4
}
